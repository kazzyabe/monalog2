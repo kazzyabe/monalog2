{
 "cells": [
  {
   "cell_type": "markdown",
   "metadata": {},
   "source": [
    "# Analysis of wrongly predicted examples in MonaLog outputs"
   ]
  },
  {
   "cell_type": "code",
   "execution_count": 1,
   "metadata": {
    "scrolled": true
   },
   "outputs": [],
   "source": [
    "# loading sick data\n",
    "import pickle as p\n",
    "sick_raw = p.load(open(\"Data_Extraction/sick_raw.p\", \"rb\"))"
   ]
  },
  {
   "cell_type": "code",
   "execution_count": 2,
   "metadata": {
    "scrolled": true
   },
   "outputs": [],
   "source": [
    "# convert list to dictionary\n",
    "sick_dict = {}\n",
    "for s in sick_raw:\n",
    "    sick_dict[int(s[0])] = {'P': s[1], 'H': s[2]}"
   ]
  },
  {
   "cell_type": "code",
   "execution_count": 7,
   "metadata": {
    "scrolled": true
   },
   "outputs": [],
   "source": [
    "# sick_dict[5]"
   ]
  },
  {
   "cell_type": "code",
   "execution_count": 3,
   "metadata": {
    "scrolled": true
   },
   "outputs": [],
   "source": [
    "def print_ex(sick_dict, ids):\n",
    "    for i in ids:\n",
    "        print(i)\n",
    "        print(\"P: {}\\nH: {}\\n\\n\".format(sick_dict[i]['P'],sick_dict[i]['H']))"
   ]
  },
  {
   "cell_type": "markdown",
   "metadata": {},
   "source": [
    "## Lexical Contradiction"
   ]
  },
  {
   "cell_type": "code",
   "execution_count": 9,
   "metadata": {
    "scrolled": true
   },
   "outputs": [
    {
     "name": "stdout",
     "output_type": "stream",
     "text": [
      "592\n",
      "P: A woman is taking off a cloak which is very large and revealing an extravagant dress\n",
      "H: A woman is putting on a cloak which is very large and concealing an extravagant dress \n",
      "\n",
      "\n",
      "717\n",
      "P: Several men in a competition are running outside\n",
      "H: Several men in a competition are running indoors \n",
      "\n",
      "\n",
      "1236\n",
      "P: A woman is dancing and singing alone\n",
      "H: A woman is dancing and singing with other women \n",
      "\n",
      "\n",
      "8263\n",
      "P: Some people and vehicles are on a crowded street\n",
      "H: Some people and vehicles are on a almost empty street \n",
      "\n",
      "\n",
      "9706\n",
      "P: A black and white dog with a large branch is standing in a field\n",
      "H: A black and white dog with a large branch is running in a field \n",
      "\n",
      "\n",
      "7937\n",
      "P: A woman dressed in elegant clothing is inside a crowd of people and is looking up\n",
      "H: A woman dressed in elegant clothing is inside a crowd of people and is looking down \n",
      "\n",
      "\n"
     ]
    }
   ],
   "source": [
    "LEX_ID = [592,717,1236,8263,9706,7937]\n",
    "print_ex(sick_dict, LEX_ID)"
   ]
  },
  {
   "cell_type": "markdown",
   "metadata": {},
   "source": [
    "## Lexical Similarities"
   ]
  },
  {
   "cell_type": "code",
   "execution_count": 4,
   "metadata": {},
   "outputs": [
    {
     "name": "stdout",
     "output_type": "stream",
     "text": [
      "7582\n",
      "P: A bunch of men are playing rugby on a field full of mud\n",
      "H: Some men are playing rugby \n",
      "\n",
      "\n",
      "9425\n",
      "P: No dog is in a sand that is blowing in a wind\n",
      "H: A dog is in a sandy area with a sand that is being stirred up into a air and several plants are in a background \n",
      "\n",
      "\n",
      "9490\n",
      "P: 4 brown dogs are playing in a field of brown grass\n",
      "H: 4 dogs are not playing in a grassy area \n",
      "\n",
      "\n",
      "1190\n",
      "P: A man and a woman are hiking through a wooded area\n",
      "H: A man and a woman are walking together through a woods \n",
      "\n",
      "\n",
      "1266\n",
      "P: A band is playing on a stage\n",
      "H: A band is playing onstage \n",
      "\n",
      "\n",
      "1495\n",
      "P: A man is playing a guitar\n",
      "H: A man is strumming a guitar \n",
      "\n",
      "\n",
      "1584\n",
      "P: A badger is burrowing a hole\n",
      "H: A badger is shrewdly digging a earth \n",
      "\n",
      "\n",
      "2058\n",
      "P: A lady is cutting up some meat precisely\n",
      "H: A woman is cutting some meat into pieces \n",
      "\n",
      "\n"
     ]
    }
   ],
   "source": [
    "SIM_ID = [7582,9425,9490,1190,1266,1495,1584,2058]\n",
    "print_ex(sick_dict, SIM_ID)"
   ]
  },
  {
   "cell_type": "markdown",
   "metadata": {},
   "source": [
    "## Conjunction Related Errors"
   ]
  },
  {
   "cell_type": "code",
   "execution_count": 11,
   "metadata": {
    "scrolled": true
   },
   "outputs": [
    {
     "name": "stdout",
     "output_type": "stream",
     "text": [
      "5003\n",
      "P: A big cat is opening a plastic drawer with its paws and is jumping inside\n",
      "H: A cat is opening a drawer and jumping inside \n",
      "\n",
      "\n",
      "987\n",
      "P: An adult is in a amphitheater and is talking to a boy\n",
      "H: No adult in a amphitheater is talking to a boy \n",
      "\n",
      "\n",
      "6287\n",
      "P: A black dog is running in a grass and its tongue is hanging out\n",
      "H: A black dog is running in a grass \n",
      "\n",
      "\n",
      "7311\n",
      "P: A man is smoking a cigarette in a straw hat\n",
      "H: A man is wearing a straw hat and smoking a cigarette \n",
      "\n",
      "\n",
      "6544\n",
      "P: A ice hockey goalkeeper is wearing a yellow jersey and is defending a goal\n",
      "H: No hockey player in a yellow jersey is guarding a goal \n",
      "\n",
      "\n",
      "9571\n",
      "P: An elder man is sitting on a bench and is wearing a gray jacket and black pants\n",
      "H: An elderly man is sitting on a bench \n",
      "\n",
      "\n"
     ]
    }
   ],
   "source": [
    "CONJ_ID = [5003,987,6287,7311,6544,9571,7311,9136]\n",
    "print_ex(sick_dict, CONJ_ID)"
   ]
  },
  {
   "cell_type": "markdown",
   "metadata": {},
   "source": [
    "## Embedding Related Errors"
   ]
  },
  {
   "cell_type": "code",
   "execution_count": 13,
   "metadata": {
    "scrolled": true
   },
   "outputs": [
    {
     "name": "stdout",
     "output_type": "stream",
     "text": [
      "947\n",
      "P: 2 toddlers who are in a wagon which is really small are eating some corndogs\n",
      "H: 2 toddlers are eating corndogs in a wagon which is really small \n",
      "\n",
      "\n",
      "2722\n",
      "P: A woman who is seated is singing a song and playing a guitar\n",
      "H: A seated woman is singing a song and playing a guitar \n",
      "\n",
      "\n",
      "2791\n",
      "P: A guinea pig which is small is gnawing and eating a piece of carrot on a floor\n",
      "H: A small guinea pig is gnawing and eating a piece of carrot on a floor \n",
      "\n",
      "\n",
      "6634\n",
      "P: A horse that has a rider on its back is leaping a hurdle\n",
      "H: A horse and its rider are leaping over a barrier \n",
      "\n",
      "\n",
      "6705\n",
      "P: A child who is small is outdoors climbing steps outdoors in an area full of grass\n",
      "H: A small child is outdoors climbing steps in a grassy area \n",
      "\n",
      "\n"
     ]
    }
   ],
   "source": [
    "EMB_ID = [947,2722,2791,6634,7546,\n",
    "          6705]\n",
    "print_ex(sick_dict,EMB_ID)"
   ]
  },
  {
   "cell_type": "markdown",
   "metadata": {},
   "source": [
    "## Specific To General"
   ]
  },
  {
   "cell_type": "code",
   "execution_count": 18,
   "metadata": {},
   "outputs": [
    {
     "name": "stdout",
     "output_type": "stream",
     "text": [
      "6047\n",
      "P: A man and a woman are in a room painted beige wearing dark shirts and a monitor is in a background\n",
      "H: A man and a woman are in a beige room wearing dark shirts and a monitor is in a background \n",
      "\n",
      "\n",
      "860\n",
      "P: One white dog and one black one are running side by side on a grass\n",
      "H: A dog which has a black coat and a white dog are running on a grass \n",
      "\n",
      "\n",
      "7889\n",
      "P: 2 white dogs are playing with a brown dog and a tennis ball\n",
      "H: 2 white dogs are playing with a brown dog and a ball \n",
      "\n",
      "\n",
      "8714\n",
      "P: 2 white dogs are quickly running together\n",
      "H: 2 white dogs are running together \n",
      "\n",
      "\n",
      "2284\n",
      "P: A cat is playing passionately with a watermelon\n",
      "H: A cat is playing with a watermelon \n",
      "\n",
      "\n"
     ]
    }
   ],
   "source": [
    "SPEC_ID = [6047,860,7889,8714,2284]\n",
    "print_ex(sick_dict, SPEC_ID)"
   ]
  },
  {
   "cell_type": "markdown",
   "metadata": {},
   "source": [
    "## Passive to Active"
   ]
  },
  {
   "cell_type": "code",
   "execution_count": 17,
   "metadata": {
    "scrolled": true
   },
   "outputs": [
    {
     "name": "stdout",
     "output_type": "stream",
     "text": [
      "1690\n",
      "P: A milk is being drunk by a cat\n",
      "H: A cat is drinking some milk \n",
      "\n",
      "\n",
      "1754\n",
      "P: A flute is being played in a lovely way by a girl\n",
      "H: A girl is playing a flute \n",
      "\n",
      "\n",
      "3670\n",
      "P: It is raining on a walking man\n",
      "H: A man is walking in a rain \n",
      "\n",
      "\n"
     ]
    }
   ],
   "source": [
    "PAAC_ID = [1690, 1754,3670]\n",
    "print_ex(sick_dict, PAAC_ID)"
   ]
  },
  {
   "cell_type": "markdown",
   "metadata": {},
   "source": [
    "## ADJ to PP (vise versa)"
   ]
  },
  {
   "cell_type": "code",
   "execution_count": 16,
   "metadata": {
    "scrolled": true
   },
   "outputs": [
    {
     "name": "stdout",
     "output_type": "stream",
     "text": [
      "218\n",
      "P: A girl in white is dancing\n",
      "H: A girl is wearing white clothes and is dancing \n",
      "\n",
      "\n",
      "816\n",
      "P: Some people is equipped with protective gear\n",
      "H: Some people is equipped with gear used for protection \n",
      "\n",
      "\n",
      "2166\n",
      "P: A woman is sewing with a machine\n",
      "H: A woman is using a machine made for sewing \n",
      "\n",
      "\n",
      "7477\n",
      "P: A man in a white shirt and sunglasses and a man in a black shirt and sunglasses are sitting at a table with 4 bottles of beer\n",
      "H: A man in a white shirt and sunglasses and a man in a black shirt and sunglasses are sitting at a table with 4 beer bottles \n",
      "\n",
      "\n",
      "7546\n",
      "P: A young girl in a blue leotard is jumping in a air\n",
      "H: A young girl in a leotard colored in blue is jumping in a air \n",
      "\n",
      "\n",
      "7889\n",
      "P: 2 white dogs are playing with a brown dog and a tennis ball\n",
      "H: 2 white dogs are playing with a brown dog and a ball \n",
      "\n",
      "\n",
      "8714\n",
      "P: 2 white dogs are quickly running together\n",
      "H: 2 white dogs are running together \n",
      "\n",
      "\n",
      "3670\n",
      "P: It is raining on a walking man\n",
      "H: A man is walking in a rain \n",
      "\n",
      "\n",
      "2772\n",
      "P: A person is pouring oil for cooking into a pot\n",
      "H: A person is pouring cooking oil into a pot \n",
      "\n",
      "\n",
      "3275\n",
      "P: A child is running in and out of a waves of a ocean\n",
      "H: A child is running in and out of a ocean waves \n",
      "\n",
      "\n",
      "3373\n",
      "P: A woman is riding a water scooter\n",
      "H: A woman is riding a scooter for water \n",
      "\n",
      "\n",
      "6649\n",
      "P: 2 teenage girls are wearing fancy dresses at an event\n",
      "H: 2 girls in their teens are wearing fancy dresses at an event \n",
      "\n",
      "\n",
      "7445\n",
      "P: A little girl is swinging and a woman is standing behind her\n",
      "H: A girl who is little is swinging and a woman is standing behind \n",
      "\n",
      "\n",
      "7466\n",
      "P: A group of people is sitting in a dim room\n",
      "H: A group of people is sitting in a room which is dim \n",
      "\n",
      "\n",
      "9132\n",
      "P: A man in a jersey which is black is standing in a gym\n",
      "H: A man in a black jersey is standing in a gym \n",
      "\n",
      "\n"
     ]
    }
   ],
   "source": [
    "PP_ID = [218,816,2166,\n",
    "         7477,\n",
    "         2772,3275,3373,6649,7445,7466,9132]\n",
    "print_ex(sick_dict, PP_ID)"
   ]
  },
  {
   "cell_type": "code",
   "execution_count": null,
   "metadata": {
    "scrolled": true
   },
   "outputs": [],
   "source": [
    "BIDIR_ID = [1333]"
   ]
  }
 ],
 "metadata": {
  "kernelspec": {
   "display_name": "Python 3",
   "language": "python",
   "name": "python3"
  },
  "language_info": {
   "codemirror_mode": {
    "name": "ipython",
    "version": 3
   },
   "file_extension": ".py",
   "mimetype": "text/x-python",
   "name": "python",
   "nbconvert_exporter": "python",
   "pygments_lexer": "ipython3",
   "version": "3.8.3"
  }
 },
 "nbformat": 4,
 "nbformat_minor": 4
}
