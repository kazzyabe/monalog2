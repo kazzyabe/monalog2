{
 "cells": [
  {
   "cell_type": "code",
   "execution_count": 13,
   "metadata": {},
   "outputs": [],
   "source": [
    "f = open(\"experiment1_93538.txt\", 'r')\n",
    "sick = f.read()\n",
    "sick = sick.split('\\n')\n",
    "f.close()"
   ]
  },
  {
   "cell_type": "code",
   "execution_count": 14,
   "metadata": {},
   "outputs": [
    {
     "data": {
      "text/plain": [
       "['------------------------------',\n",
       " '',\n",
       " '*** solving sick 4 ***',\n",
       " '',\n",
       " '4\\tA young boys are playing outdoors and a man is smiling nearby\\tThere is no boy playing outdoors and there is no man smiling ',\n",
       " '------------------------------',\n",
       " '',\n",
       " '*** solving sick 219 ***',\n",
       " '',\n",
       " '219\\tNo girl in white is dancing\\tA girl in white is dancing ',\n",
       " '------------------------------',\n",
       " '',\n",
       " '*** solving sick 592 ***',\n",
       " '',\n",
       " '592\\tA woman is taking off a cloak which is very large and revealing an extravagant dress\\tA woman is putting on a cloak which is very large and concealing an extravagant dress ',\n",
       " '------------------------------',\n",
       " '',\n",
       " '*** solving sick 630 ***',\n",
       " '',\n",
       " '630\\tA man is not tossing a kid into a swimming pool that is near a ocean\\tA man is tossing a kid into a swimming pool that is near a ocean ']"
      ]
     },
     "execution_count": 14,
     "metadata": {},
     "output_type": "execute_result"
    }
   ],
   "source": [
    "sick[:20]"
   ]
  },
  {
   "cell_type": "code",
   "execution_count": 3,
   "metadata": {},
   "outputs": [],
   "source": [
    "# f = open(\"sick_raw.txt\", \"w\")\n",
    "# i = 0\n",
    "# for s in sick:\n",
    "#     if \"\\t\" in s:\n",
    "#         tmp = s.split(\"\\t\")\n",
    "#         for t in tmp:\n",
    "#             f.write(t+\"\\n\")\n",
    "#         f.write(\"\\n\")\n",
    "# f.close()"
   ]
  },
  {
   "cell_type": "code",
   "execution_count": 15,
   "metadata": {},
   "outputs": [],
   "source": [
    "## remove duplicates\n",
    "# f = open(\"sick_raw.txt\", \"w\")\n",
    "sick_raw = []\n",
    "sick_dup = []\n",
    "for s in sick:\n",
    "    if \"\\t\" in s:\n",
    "        tmp = s.split(\"\\t\")\n",
    "        sick_dup.append(tmp)\n",
    "        if tmp not in sick_raw:\n",
    "            sick_raw.append(tmp)\n",
    "#         for t in tmp:\n",
    "#             f.write(t+\"\\n\")\n",
    "#         f.write(\"\\n\")\n",
    "# f.close()"
   ]
  },
  {
   "cell_type": "code",
   "execution_count": 18,
   "metadata": {},
   "outputs": [
    {
     "data": {
      "text/plain": [
       "['4',\n",
       " 'A young boys are playing outdoors and a man is smiling nearby',\n",
       " 'There is no boy playing outdoors and there is no man smiling ']"
      ]
     },
     "execution_count": 18,
     "metadata": {},
     "output_type": "execute_result"
    }
   ],
   "source": [
    "sick_raw[0]"
   ]
  },
  {
   "cell_type": "code",
   "execution_count": 22,
   "metadata": {},
   "outputs": [
    {
     "name": "stdout",
     "output_type": "stream",
     "text": [
      "495 5940\n"
     ]
    }
   ],
   "source": [
    "print(len(sick_raw),len(sick_dup))"
   ]
  },
  {
   "cell_type": "code",
   "execution_count": 4,
   "metadata": {},
   "outputs": [],
   "source": [
    "# extract incorrect predictions\n",
    "f = open(\"incorrect.txt\", \"r\")\n",
    "res = f.read()\n",
    "res = res.split(\"\\n\")\n",
    "\n",
    "inc = {}\n",
    "flag = False\n",
    "for r in res:\n",
    "    if flag:\n",
    "        if \"(\" in r:    \n",
    "            r = r[1:-1].split(',')\n",
    "            # print(r)\n",
    "            inc[r[0]] = \"   pred: {} true: {} \\n\".format(r[1],r[2])\n",
    "    elif \"incorrect predictions:\" in r:\n",
    "        flag = True\n"
   ]
  },
  {
   "cell_type": "code",
   "execution_count": 5,
   "metadata": {},
   "outputs": [],
   "source": [
    "# f = open(\"sick_raw.txt\",\"r\")\n",
    "# sick = f.read()\n",
    "# sick = sick.split(\"\\n\")\n",
    "# f.close()"
   ]
  },
  {
   "cell_type": "code",
   "execution_count": 6,
   "metadata": {},
   "outputs": [
    {
     "data": {
      "text/plain": [
       "4"
      ]
     },
     "execution_count": 6,
     "metadata": {},
     "output_type": "execute_result"
    }
   ],
   "source": [
    "# sick[0].isdigit()\n",
    "# int(sick[0])"
   ]
  },
  {
   "cell_type": "code",
   "execution_count": 19,
   "metadata": {},
   "outputs": [
    {
     "name": "stdout",
     "output_type": "stream",
     "text": [
      "True\n",
      "4\n"
     ]
    }
   ],
   "source": [
    "print(sick_raw[0][0].isdigit())\n",
    "print(int(sick_raw[0][0]))"
   ]
  },
  {
   "cell_type": "code",
   "execution_count": 7,
   "metadata": {},
   "outputs": [],
   "source": [
    "# f = open(\"sick_correct_incorrect.txt\", \"w\")\n",
    "# g = open(\"sick_incorrect.txt\", \"w\")\n",
    "# flag = False\n",
    "\n",
    "# for s in sick:\n",
    "#     if s.isdigit():\n",
    "#         if s in inc.keys():\n",
    "#             flag = True\n",
    "#             f.write(s+inc[s])\n",
    "#             g.write(s+inc[s])\n",
    "#         else:\n",
    "#             flag = False\n",
    "#             f.write(s+\"\\n\")\n",
    "#     else:\n",
    "#         f.write(s+\"\\n\")\n",
    "#         if flag:\n",
    "#             g.write(s+\"\\n\")\n",
    "# f.close()\n",
    "# g.close()"
   ]
  },
  {
   "cell_type": "code",
   "execution_count": 21,
   "metadata": {},
   "outputs": [],
   "source": [
    "f = open(\"sick_correct_incorrect.txt\", \"w\")\n",
    "g = open(\"sick_incorrect.txt\", \"w\")\n",
    "\n",
    "for s in sick_raw:\n",
    "    if s[0] in inc.keys():\n",
    "        f.write(s[0]+inc[s[0]])\n",
    "        g.write(s[0]+inc[s[0]])\n",
    "        for i in range(1,3):\n",
    "            f.write(s[i]+\"\\n\")\n",
    "            g.write(s[i]+\"\\n\")\n",
    "        f.write(\"\\n\")\n",
    "        g.write(\"\\n\")\n",
    "    else:\n",
    "        for i in range(0,3):\n",
    "            f.write(s[i]+\"\\n\")\n",
    "        f.write(\"\\n\")\n",
    "f.close()\n",
    "g.close()"
   ]
  },
  {
   "cell_type": "code",
   "execution_count": 8,
   "metadata": {},
   "outputs": [
    {
     "data": {
      "text/plain": [
       "dict_keys(['4', '592', '717', '987', '1236', '3123', '3941', '4187', '4831', '6544', '8193', '8263', '9014', '9425', '9490', '9706', '211', '218', '253', '816', '860', '947', '1190', '1192', '1266', '1333', '1495', '1584', '1690', '1754', '1881', '2058', '2166', '2284', '2286', '2364', '2405', '2557', '2722', '2772', '2791', '2795', '3122', '3250', '3275', '3373', '3536', '3586', '3626', '3670', '3733', '3880', '3909', '4006', '4011', '4066', '4288', '4505', '4734', '5003', '5030', '5110', '5113', '6047', '6287', '6634', '6649', '6705', '6932', '7018', '7093', '7311', '7445', '7466', '7471', '7477', '7546', '7582', '7677', '7889', '8057', '8576', '8633', '8678', '8714', '8786', '9069', '9132', '9136', '9433', '9571', '9584', '9713', '9747', '304', '1177', '1400', '2968', '3747', '5047', '7363', '7590', '7726', '7734', '7937'])"
      ]
     },
     "execution_count": 8,
     "metadata": {},
     "output_type": "execute_result"
    }
   ],
   "source": [
    "inc.keys()"
   ]
  },
  {
   "cell_type": "code",
   "execution_count": 9,
   "metadata": {},
   "outputs": [
    {
     "data": {
      "text/plain": [
       "105"
      ]
     },
     "execution_count": 9,
     "metadata": {},
     "output_type": "execute_result"
    }
   ],
   "source": [
    "len(inc.keys())"
   ]
  },
  {
   "cell_type": "code",
   "execution_count": null,
   "metadata": {},
   "outputs": [],
   "source": []
  }
 ],
 "metadata": {
  "kernelspec": {
   "display_name": "Python 3",
   "language": "python",
   "name": "python3"
  },
  "language_info": {
   "codemirror_mode": {
    "name": "ipython",
    "version": 3
   },
   "file_extension": ".py",
   "mimetype": "text/x-python",
   "name": "python",
   "nbconvert_exporter": "python",
   "pygments_lexer": "ipython3",
   "version": "3.8.3"
  }
 },
 "nbformat": 4,
 "nbformat_minor": 4
}
