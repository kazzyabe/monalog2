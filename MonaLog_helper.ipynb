{
 "cells": [
  {
   "cell_type": "markdown",
   "metadata": {},
   "source": [
    "# MonaLog Helper"
   ]
  },
  {
   "cell_type": "markdown",
   "metadata": {},
   "source": [
    "## Familialize CCG loading"
   ]
  },
  {
   "cell_type": "code",
   "execution_count": 1,
   "metadata": {
    "collapsed": true
   },
   "outputs": [],
   "source": [
    "import sys"
   ]
  },
  {
   "cell_type": "code",
   "execution_count": 2,
   "metadata": {
    "collapsed": true
   },
   "outputs": [],
   "source": [
    "sys.path.append('src')"
   ]
  },
  {
   "cell_type": "code",
   "execution_count": 3,
   "metadata": {
    "collapsed": true
   },
   "outputs": [],
   "source": [
    "import sick_ans"
   ]
  },
  {
   "cell_type": "code",
   "execution_count": 4,
   "metadata": {
    "collapsed": true
   },
   "outputs": [],
   "source": [
    "from getMono import CCGtrees, CCGtree, ErrorCCGtree, ErrorCompareSemCat, eprint"
   ]
  },
  {
   "cell_type": "code",
   "execution_count": 5,
   "metadata": {
    "collapsed": true
   },
   "outputs": [
    {
     "name": "stderr",
     "output_type": "stream",
     "text": [
      "\n",
      "reading log file: src/sick_uniq.raw.tok.preprocess.log\n",
      "reading log file done!\n",
      "\n"
     ]
    }
   ],
   "source": [
    "trees = CCGtrees(fn_log=\"src/sick_uniq.raw.tok.preprocess.log\")"
   ]
  },
  {
   "cell_type": "code",
   "execution_count": 6,
   "metadata": {
    "collapsed": true
   },
   "outputs": [
    {
     "name": "stderr",
     "output_type": "stream",
     "text": [
      "reading trees from easyccg / depccg output ...\n",
      "\n",
      "trees read in from easyccg / depccg output!\n",
      "\n",
      "\n"
     ]
    }
   ],
   "source": [
    "trees.readEasyccgStr(\"src/sick_uniq.raw.depccg.parsed.txt\")"
   ]
  },
  {
   "cell_type": "code",
   "execution_count": 7,
   "metadata": {
    "collapsed": true
   },
   "outputs": [
    {
     "data": {
      "text/plain": [
       "{'P': 5047, 'H': 5117}"
      ]
     },
     "execution_count": 7,
     "metadata": {},
     "output_type": "execute_result"
    }
   ],
   "source": [
    "sick2uniq = sick_ans.sick2uniq\n",
    "sick2uniq[4]"
   ]
  },
  {
   "cell_type": "code",
   "execution_count": 8,
   "metadata": {
    "collapsed": true
   },
   "outputs": [
    {
     "name": "stderr",
     "output_type": "stream",
     "text": [
      "building tree 5047...\n",
      "building tree 5117...\n"
     ]
    }
   ],
   "source": [
    "P = trees.build_one_tree(sick2uniq[4]['P'], \"easyccg\")\n",
    "H = trees.build_one_tree(sick2uniq[4]['H'], \"easyccg\")"
   ]
  },
  {
   "cell_type": "code",
   "execution_count": 9,
   "metadata": {
    "collapsed": true
   },
   "outputs": [
    {
     "data": {
      "text/plain": [
       "a *None* young *None* boy *None* be *None* play *None* outdoors *None* and *None* a *None* man *None* be *None* smile *None* nearby *None*"
      ]
     },
     "execution_count": 9,
     "metadata": {},
     "output_type": "execute_result"
    }
   ],
   "source": [
    "P"
   ]
  },
  {
   "cell_type": "code",
   "execution_count": 10,
   "metadata": {
    "collapsed": true
   },
   "outputs": [
    {
     "data": {
      "text/plain": [
       "{'parent': nt: NP ((e,t),t) fa 2 None False,\n",
       " 'children': [],\n",
       " 'sisters': [nt: N (e,t) fa 3 None False],\n",
       " 'depth': 3,\n",
       " 'cat': NP/N,\n",
       " 'chunk': 'XX',\n",
       " 'entity': 'O',\n",
       " 'lemma': 'a',\n",
       " 'pos': 'DT',\n",
       " 'span': 1,\n",
       " 'start': 0,\n",
       " 'word': 'a',\n",
       " 'wholeStr': 'A',\n",
       " 'word_raw': 'A',\n",
       " 'visited': True,\n",
       " 'span_id': None,\n",
       " 'impType': <getMono.ImpType at 0x1119ee550>,\n",
       " 'impSign': None,\n",
       " 'fixed': False,\n",
       " 'note': None,\n",
       " 'number': None}"
      ]
     },
     "execution_count": 10,
     "metadata": {},
     "output_type": "execute_result"
    }
   ],
   "source": [
    "vars(P.leafNodes[0])"
   ]
  },
  {
   "cell_type": "code",
   "execution_count": 11,
   "metadata": {
    "collapsed": true
   },
   "outputs": [
    {
     "name": "stdout",
     "output_type": "stream",
     "text": [
      "YOUNG BOY\n",
      "A YOUNG BOY\n",
      "PLAY OUTDOORS\n",
      "BE PLAY OUTDOORS\n",
      "A YOUNG BOY BE PLAY OUTDOORS\n",
      "A MAN\n",
      "SMILE NEARBY\n",
      "BE SMILE NEARBY\n",
      "A MAN BE SMILE NEARBY\n",
      "AND A MAN BE SMILE NEARBY\n"
     ]
    }
   ],
   "source": [
    "for n in P.nonTermNodes:\n",
    "    print(n.wholeStr)"
   ]
  },
  {
   "cell_type": "code",
   "execution_count": 12,
   "metadata": {
    "collapsed": true
   },
   "outputs": [
    {
     "data": {
      "text/plain": [
       "{'parent': nt: S[dcl] t ba 0 None False,\n",
       " 'children': [lf: conj CONJ and CC 2 mono:None imp:None True,\n",
       "  nt: S[dcl] t ba 2 None False],\n",
       " 'sisters': [nt: S[dcl] t ba 1 None False],\n",
       " 'depth': 1,\n",
       " 'cat': S[dcl]\\S[dcl],\n",
       " 'ruleType': 'conj',\n",
       " 'wholeStr': 'AND A MAN BE SMILE NEARBY',\n",
       " 'visited': False,\n",
       " 'span_id': None,\n",
       " 'impType': <getMono.ImpType at 0x1118bfb80>,\n",
       " 'impSign': None,\n",
       " 'note': None,\n",
       " 'number': None}"
      ]
     },
     "execution_count": 12,
     "metadata": {},
     "output_type": "execute_result"
    }
   ],
   "source": [
    "vars(P.nonTermNodes[-1])"
   ]
  },
  {
   "cell_type": "code",
   "execution_count": 13,
   "metadata": {
    "collapsed": true
   },
   "outputs": [
    {
     "data": {
      "text/plain": [
       "'A YOUNG BOY BE PLAY OUTDOORS AND A MAN BE SMILE NEARBY'"
      ]
     },
     "execution_count": 13,
     "metadata": {},
     "output_type": "execute_result"
    }
   ],
   "source": [
    "P.root.wholeStr"
   ]
  },
  {
   "cell_type": "code",
   "execution_count": 14,
   "metadata": {
    "collapsed": true
   },
   "outputs": [
    {
     "data": {
      "text/plain": [
       "'ba'"
      ]
     },
     "execution_count": 14,
     "metadata": {},
     "output_type": "execute_result"
    }
   ],
   "source": [
    "P.root.ruleType"
   ]
  },
  {
   "cell_type": "code",
   "execution_count": 15,
   "metadata": {
    "collapsed": true
   },
   "outputs": [
    {
     "data": {
      "text/plain": [
       "[nt: S[dcl] t ba 1 None False, nt: S[dcl]\\S[dcl] (t,t) conj 1 None False]"
      ]
     },
     "execution_count": 15,
     "metadata": {},
     "output_type": "execute_result"
    }
   ],
   "source": [
    "P.root.children"
   ]
  },
  {
   "cell_type": "markdown",
   "metadata": {},
   "source": [
    "# Conjunction Related Errors (Subsequence Heuristic)"
   ]
  },
  {
   "cell_type": "markdown",
   "metadata": {},
   "source": [
    "### Separating A Conjucted Sentence into two sentences"
   ]
  },
  {
   "cell_type": "markdown",
   "metadata": {},
   "source": [
    "#### Familializing with CCG tree"
   ]
  },
  {
   "cell_type": "code",
   "execution_count": 16,
   "metadata": {
    "collapsed": true
   },
   "outputs": [],
   "source": [
    "CONJ_ID = [5003,987,6287,7311,6544,9571,7311,9136]"
   ]
  },
  {
   "cell_type": "code",
   "execution_count": 17,
   "metadata": {
    "collapsed": true
   },
   "outputs": [
    {
     "name": "stderr",
     "output_type": "stream",
     "text": [
      "building tree 71...\n",
      "building tree 455...\n"
     ]
    }
   ],
   "source": [
    "P = trees.build_one_tree(sick2uniq[5003]['P'], \"easyccg\")\n",
    "H = trees.build_one_tree(sick2uniq[5003]['H'], \"easyccg\")"
   ]
  },
  {
   "cell_type": "code",
   "execution_count": 18,
   "metadata": {
    "collapsed": true
   },
   "outputs": [
    {
     "data": {
      "text/plain": [
       "a *None* big *None* cat *None* be *None* open *None* a *None* plastic *None* drawer *None* with *None* its *None* paw *None* and *None* be *None* jump *None* inside *None*"
      ]
     },
     "execution_count": 18,
     "metadata": {},
     "output_type": "execute_result"
    }
   ],
   "source": [
    "P"
   ]
  },
  {
   "cell_type": "code",
   "execution_count": 19,
   "metadata": {
    "collapsed": true
   },
   "outputs": [
    {
     "data": {
      "text/plain": [
       "'A CAT BE OPEN A DRAWER AND JUMP INSIDE'"
      ]
     },
     "execution_count": 19,
     "metadata": {},
     "output_type": "execute_result"
    }
   ],
   "source": [
    "H.wholeStr"
   ]
  },
  {
   "cell_type": "code",
   "execution_count": 20,
   "metadata": {
    "collapsed": true
   },
   "outputs": [
    {
     "data": {
      "text/plain": [
       "{'parent': nt: S[dcl] t ba 0 None False,\n",
       " 'children': [nt: S[dcl]\\NP (((e,t),t),t) fa 2 None False,\n",
       "  nt: (S[dcl]\\NP)\\(S[dcl]\\NP) ((((e,t),t),t),(((e,t),t),t)) conj 2 None False],\n",
       " 'sisters': [nt: NP ((e,t),t) fa 1 None False],\n",
       " 'depth': 1,\n",
       " 'cat': S[dcl]\\NP,\n",
       " 'ruleType': 'ba',\n",
       " 'wholeStr': 'BE OPEN A PLASTIC DRAWER WITH ITS PAW AND BE JUMP INSIDE',\n",
       " 'visited': False,\n",
       " 'span_id': None,\n",
       " 'impType': <getMono.ImpType at 0x111874fd0>,\n",
       " 'impSign': None,\n",
       " 'note': None,\n",
       " 'number': None}"
      ]
     },
     "execution_count": 20,
     "metadata": {},
     "output_type": "execute_result"
    }
   ],
   "source": [
    "vars(P.root.children[1])"
   ]
  },
  {
   "cell_type": "code",
   "execution_count": 21,
   "metadata": {
    "collapsed": true
   },
   "outputs": [],
   "source": [
    "def checkSentConj(P):\n",
    "    '''Checks if P has sentential or verbal conjunction'''\n",
    "    res = False\n",
    "    root = P.root\n",
    "    dep = 0\n",
    "    while len(root.children[1].children) != 0:\n",
    "        dep += 1\n",
    "        Lchild = root.children[1]\n",
    "#         print(Lchild.wholeStr)\n",
    "#         print(vars(Lchild))\n",
    "        if Lchild.ruleType == 'conj':\n",
    "            res = True\n",
    "            break\n",
    "        root = Lchild\n",
    "    return res, dep"
   ]
  },
  {
   "cell_type": "code",
   "execution_count": 22,
   "metadata": {
    "collapsed": true
   },
   "outputs": [
    {
     "name": "stdout",
     "output_type": "stream",
     "text": [
      "5003 (True, 2)\n",
      "\n",
      "987 (True, 2)\n",
      "\n",
      "6287 (True, 1)\n",
      "\n",
      "7311 (False, 5)\n",
      "\n",
      "6544 (True, 2)\n",
      "\n",
      "9571 (True, 2)\n",
      "\n",
      "7311 (False, 5)\n",
      "\n",
      "9136 (False, 4)\n",
      "\n"
     ]
    },
    {
     "name": "stderr",
     "output_type": "stream",
     "text": [
      "building tree 71...\n",
      "building tree 3315...\n",
      "building tree 167...\n",
      "building tree 549...\n",
      "building tree 4304...\n",
      "building tree 3344...\n",
      "building tree 549...\n",
      "building tree 1413...\n"
     ]
    }
   ],
   "source": [
    "# testing checkSentConj\n",
    "for i in CONJ_ID:\n",
    "    P = trees.build_one_tree(sick2uniq[i]['P'], \"easyccg\")\n",
    "    print(i, checkSentConj(P))\n",
    "    print()"
   ]
  },
  {
   "cell_type": "markdown",
   "metadata": {},
   "source": [
    "### Sentence extraction (from conjuncted sentences): NP VP1 and VP2 -> NP VP1 / NP VP2"
   ]
  },
  {
   "cell_type": "code",
   "execution_count": 23,
   "metadata": {
    "collapsed": true
   },
   "outputs": [],
   "source": [
    "def ConjEntail(P):\n",
    "    '''Returning sentences'''\n",
    "    k = []\n",
    "    res, dep = checkSentConj(P)\n",
    "    if res and dep == 2:\n",
    "        ### Case1: Conjunciton of VP\n",
    "        root = P.root\n",
    "        Subj = root.children[0]\n",
    "        ConjVP = root.children[1]\n",
    "        print(\"Subj: {}\".format(Subj.wholeStr))\n",
    "        print(\"ConjVP: {}\".format(ConjVP.wholeStr))\n",
    "        \n",
    "        while ConjVP.children[1].ruleType == 'conj':\n",
    "            tmp = Subj.wholeStr + \" \" + ConjVP.children[0].wholeStr\n",
    "            k.append(tmp)\n",
    "            ConjVP = ConjVP.children[1]\n",
    "        tmp = Subj.wholeStr + \" \" + ConjVP.children[1].wholeStr\n",
    "        k.append(tmp)\n",
    "    return k"
   ]
  },
  {
   "cell_type": "code",
   "execution_count": 24,
   "metadata": {
    "collapsed": true
   },
   "outputs": [],
   "source": [
    "def ConjEntail(P):\n",
    "    '''Returning trees'''\n",
    "    k = []\n",
    "    res, dep = checkSentConj(P)\n",
    "    if res and dep == 2:\n",
    "        ### Case1: Conjunciton of VP\n",
    "        root = P.root\n",
    "        Subj = root.children[0]\n",
    "        ConjVP = root.children[1]\n",
    "        print(\"Subj: {}\".format(Subj.wholeStr))\n",
    "        print(\"ConjVP: {}\".format(ConjVP.wholeStr))\n",
    "        \n",
    "        # iteratively add sentences\n",
    "        # eg ConjVP = VP1 and VP2\n",
    "        # then generate Subj VP1 and Subj VP2\n",
    "        while ConjVP.children[1].ruleType == 'conj':\n",
    "            tmp = root.copy()\n",
    "            tmp.children[1] = ConjVP.children[0]\n",
    "            tmp.wholeStr = Subj.wholeStr + \" \" + ConjVP.children[0].wholeStr\n",
    "            k.append(tmp)\n",
    "            ConjVP = ConjVP.children[1]\n",
    "        tmp = root.copy()\n",
    "        tmp.children[1] = ConjVP.children[1]\n",
    "        tmp.wholeStr = Subj.wholeStr + \" \" + ConjVP.children[1].wholeStr\n",
    "        k.append(tmp)\n",
    "    return k"
   ]
  },
  {
   "cell_type": "code",
   "execution_count": 25,
   "metadata": {
    "collapsed": true
   },
   "outputs": [],
   "source": [
    "k = ConjEntail(P)"
   ]
  },
  {
   "cell_type": "code",
   "execution_count": 26,
   "metadata": {
    "collapsed": true
   },
   "outputs": [
    {
     "data": {
      "text/plain": [
       "[]"
      ]
     },
     "execution_count": 26,
     "metadata": {},
     "output_type": "execute_result"
    }
   ],
   "source": [
    "k"
   ]
  },
  {
   "cell_type": "code",
   "execution_count": 27,
   "metadata": {
    "collapsed": true
   },
   "outputs": [],
   "source": [
    "for t in k:\n",
    "    print(t.wholeStr)\n",
    "    for c in t.children:\n",
    "        print(vars(c))\n",
    "        print()\n",
    "    print()"
   ]
  },
  {
   "cell_type": "markdown",
   "metadata": {},
   "source": [
    "### Testing ConjEntail"
   ]
  },
  {
   "cell_type": "code",
   "execution_count": 28,
   "metadata": {
    "collapsed": true
   },
   "outputs": [
    {
     "name": "stderr",
     "output_type": "stream",
     "text": [
      "building tree 71...\n",
      "building tree 455...\n",
      "building tree 3315...\n",
      "building tree 5089...\n",
      "building tree 167...\n",
      "building tree 166...\n",
      "building tree 549...\n",
      "building tree 2070...\n",
      "building tree 4304...\n",
      "building tree 5228...\n"
     ]
    },
    {
     "name": "stdout",
     "output_type": "stream",
     "text": [
      "Subj: A BIG CAT\n",
      "ConjVP: BE OPEN A PLASTIC DRAWER WITH ITS PAW AND BE JUMP INSIDE\n",
      "5003 A BIG CAT BE OPEN A PLASTIC DRAWER WITH ITS PAW AND BE JUMP INSIDE\n",
      "A CAT BE OPEN A DRAWER AND JUMP INSIDE\n",
      "['A BIG CAT BE OPEN A PLASTIC DRAWER WITH ITS PAW', 'A BIG CAT BE JUMP INSIDE']\n",
      "False\n",
      "\n",
      "Subj: AN ADULT\n",
      "ConjVP: BE IN A AMPHITHEATER AND BE TALK TO A BOY\n",
      "987 AN ADULT BE IN A AMPHITHEATER AND BE TALK TO A BOY\n",
      "NO ADULT IN A AMPHITHEATER BE TALK TO A BOY\n",
      "['AN ADULT BE IN A AMPHITHEATER', 'AN ADULT BE TALK TO A BOY']\n",
      "False\n",
      "\n",
      "6287 A BLACK DOG BE RUN IN A GRASS AND ITS TONGUE BE HANG OUT\n",
      "A BLACK DOG BE RUN IN A GRASS\n",
      "[]\n",
      "False\n",
      "\n",
      "7311 A MAN BE SMOKE A CIGARETTE IN A STRAW HAT\n",
      "A MAN BE WEAR A STRAW HAT AND SMOKE A CIGARETTE\n",
      "[]\n",
      "False\n",
      "\n",
      "Subj: A ICE HOCKEY GOALKEEPER\n",
      "ConjVP: BE WEAR A YELLOW JERSEY AND BE DEFEND A GOAL\n",
      "6544 A ICE HOCKEY GOALKEEPER BE WEAR A YELLOW JERSEY AND BE DEFEND A GOAL\n",
      "NO HOCKEY PLAYER IN A YELLOW JERSEY BE GUARD A GOAL\n",
      "['A ICE HOCKEY GOALKEEPER BE WEAR A YELLOW JERSEY', 'A ICE HOCKEY GOALKEEPER BE DEFEND A GOAL']\n",
      "False\n",
      "\n",
      "Subj: AN ELD MAN\n",
      "ConjVP: BE SIT ON A BENCH AND BE WEAR A GRAY JACKET AND BLACK PANT\n",
      "9571 AN ELD MAN BE SIT ON A BENCH AND BE WEAR A GRAY JACKET AND BLACK PANT\n",
      "AN ELDERLY MAN BE SIT ON A BENCH\n",
      "['AN ELD MAN BE SIT ON A BENCH', 'AN ELD MAN BE WEAR A GRAY JACKET AND BLACK PANT']\n",
      "False\n",
      "\n",
      "7311 A MAN BE SMOKE A CIGARETTE IN A STRAW HAT\n",
      "A MAN BE WEAR A STRAW HAT AND SMOKE A CIGARETTE\n",
      "[]\n",
      "False\n",
      "\n",
      "9136 A MAN IN A BLACK JERSEY BE STAND IN A GYM\n",
      "A MAN BE STAND IN A GYM AND BE WEAR A JERSEY\n",
      "[]\n",
      "False\n",
      "\n"
     ]
    },
    {
     "name": "stderr",
     "output_type": "stream",
     "text": [
      "building tree 3344...\n",
      "building tree 3345...\n",
      "building tree 549...\n",
      "building tree 2070...\n",
      "building tree 1413...\n",
      "building tree 1990...\n"
     ]
    }
   ],
   "source": [
    "for i in CONJ_ID:\n",
    "    P = trees.build_one_tree(sick2uniq[i]['P'], \"easyccg\")\n",
    "    H = trees.build_one_tree(sick2uniq[i]['H'], \"easyccg\")\n",
    "    k = ConjEntail(P)\n",
    "    k_str = []\n",
    "    for t in k:\n",
    "        k_str.append(t.wholeStr)\n",
    "        \n",
    "    print(i, P.wholeStr)\n",
    "    print(H.wholeStr)\n",
    "    print(k_str)\n",
    "    print(H.wholeStr in k_str)\n",
    "    print()"
   ]
  },
  {
   "cell_type": "markdown",
   "metadata": {},
   "source": [
    "## Specific to General: Adj N VP -> N VP"
   ]
  },
  {
   "cell_type": "code",
   "execution_count": 29,
   "metadata": {
    "collapsed": true
   },
   "outputs": [
    {
     "name": "stdout",
     "output_type": "stream",
     "text": [
      "Subj: A BIG CAT\n",
      "ConjVP: BE OPEN A PLASTIC DRAWER WITH ITS PAW AND BE JUMP INSIDE\n"
     ]
    },
    {
     "name": "stderr",
     "output_type": "stream",
     "text": [
      "building tree 71...\n"
     ]
    }
   ],
   "source": [
    "P = trees.build_one_tree(sick2uniq[5003]['P'], \"easyccg\")\n",
    "k = ConjEntail(P)"
   ]
  },
  {
   "cell_type": "code",
   "execution_count": 30,
   "metadata": {
    "collapsed": true
   },
   "outputs": [
    {
     "data": {
      "text/plain": [
       "'A BIG CAT BE OPEN A PLASTIC DRAWER WITH ITS PAW'"
      ]
     },
     "execution_count": 30,
     "metadata": {},
     "output_type": "execute_result"
    }
   ],
   "source": [
    "k[0].wholeStr"
   ]
  },
  {
   "cell_type": "code",
   "execution_count": 31,
   "metadata": {
    "collapsed": true
   },
   "outputs": [
    {
     "data": {
      "text/plain": [
       "{'parent': None,\n",
       " 'children': [nt: NP ((e,t),t) fa 1 None False,\n",
       "  nt: S[dcl]\\NP (((e,t),t),t) fa 2 None False],\n",
       " 'sisters': [],\n",
       " 'depth': 0,\n",
       " 'cat': S[dcl],\n",
       " 'ruleType': 'ba',\n",
       " 'wholeStr': 'A BIG CAT BE OPEN A PLASTIC DRAWER WITH ITS PAW',\n",
       " 'visited': False,\n",
       " 'span_id': None,\n",
       " 'impType': <getMono.ImpType at 0x111b7bb50>,\n",
       " 'impSign': None,\n",
       " 'note': None,\n",
       " 'number': None}"
      ]
     },
     "execution_count": 31,
     "metadata": {},
     "output_type": "execute_result"
    }
   ],
   "source": [
    "vars(k[0])"
   ]
  },
  {
   "cell_type": "code",
   "execution_count": 34,
   "metadata": {
    "collapsed": true
   },
   "outputs": [
    {
     "data": {
      "text/plain": [
       "{'parent': nt: S[dcl]\\NP (((e,t),t),t) ba 1 None False,\n",
       " 'children': [lf: (S[dcl]\\NP)/(S[ng]\\NP) ((((e,t),t),t),(((e,t),t),t)) be VBZ 3 mono:None imp:None True,\n",
       "  nt: S[ng]\\NP (((e,t),t),t) ba 3 None False],\n",
       " 'sisters': [nt: (S[dcl]\\NP)\\(S[dcl]\\NP) ((((e,t),t),t),(((e,t),t),t)) conj 2 None False],\n",
       " 'depth': 2,\n",
       " 'cat': S[dcl]\\NP,\n",
       " 'ruleType': 'fa',\n",
       " 'wholeStr': 'BE OPEN A PLASTIC DRAWER WITH ITS PAW',\n",
       " 'visited': False,\n",
       " 'span_id': None,\n",
       " 'impType': <getMono.ImpType at 0x1119a6430>,\n",
       " 'impSign': None,\n",
       " 'note': None,\n",
       " 'number': None}"
      ]
     },
     "execution_count": 34,
     "metadata": {},
     "output_type": "execute_result"
    }
   ],
   "source": [
    "BE = k[0].children[1]\n",
    "vars(BE)"
   ]
  },
  {
   "cell_type": "code",
   "execution_count": 35,
   "metadata": {
    "collapsed": true
   },
   "outputs": [
    {
     "data": {
      "text/plain": [
       "{'parent': nt: S[dcl]\\NP (((e,t),t),t) fa 2 None False,\n",
       " 'children': [nt: S[ng]\\NP (((e,t),t),t) fa 4 None False,\n",
       "  nt: (S\\NP)\\(S\\NP) ((((e,t),t),t),(((e,t),t),t)) fa 4 None False],\n",
       " 'sisters': [lf: (S[dcl]\\NP)/(S[ng]\\NP) ((((e,t),t),t),(((e,t),t),t)) be VBZ 3 mono:None imp:None True],\n",
       " 'depth': 3,\n",
       " 'cat': S[ng]\\NP,\n",
       " 'ruleType': 'ba',\n",
       " 'wholeStr': 'OPEN A PLASTIC DRAWER WITH ITS PAW',\n",
       " 'visited': False,\n",
       " 'span_id': None,\n",
       " 'impType': <getMono.ImpType at 0x111b67c10>,\n",
       " 'impSign': None,\n",
       " 'note': None,\n",
       " 'number': None}"
      ]
     },
     "execution_count": 35,
     "metadata": {},
     "output_type": "execute_result"
    }
   ],
   "source": [
    "OPEN = BE.children[1]\n",
    "vars(OPEN)"
   ]
  },
  {
   "cell_type": "code",
   "execution_count": 38,
   "metadata": {
    "collapsed": true
   },
   "outputs": [
    {
     "data": {
      "text/plain": [
       "{'parent': nt: S[ng]\\NP (((e,t),t),t) fa 4 None False,\n",
       " 'children': [lf: NP/N ((e,t),((e,t),t)) a DT 6 mono:None imp:None True,\n",
       "  nt: N (e,t) fa 6 None False],\n",
       " 'sisters': [lf: (S[ng]\\NP)/NP (((e,t),t),(((e,t),t),t)) open VBG 5 mono:None imp:None True],\n",
       " 'depth': 5,\n",
       " 'cat': NP,\n",
       " 'ruleType': 'fa',\n",
       " 'wholeStr': 'A PLASTIC DRAWER',\n",
       " 'visited': False,\n",
       " 'span_id': None,\n",
       " 'impType': <getMono.ImpType at 0x111b6ca30>,\n",
       " 'impSign': None,\n",
       " 'note': None,\n",
       " 'number': None}"
      ]
     },
     "execution_count": 38,
     "metadata": {},
     "output_type": "execute_result"
    }
   ],
   "source": [
    "OBJ = OPEN.children[0]\n",
    "OBJ = OBJ.children[1]\n",
    "vars(OBJ)"
   ]
  },
  {
   "cell_type": "code",
   "execution_count": 45,
   "metadata": {
    "collapsed": true
   },
   "outputs": [
    {
     "data": {
      "text/plain": [
       "{'parent': nt: N (e,t) fa 6 None False,\n",
       " 'children': [],\n",
       " 'sisters': [lf: N (e,t) drawer NN 7 mono:None imp:None True],\n",
       " 'depth': 7,\n",
       " 'cat': N/N,\n",
       " 'chunk': 'XX',\n",
       " 'entity': 'O',\n",
       " 'lemma': 'plastic',\n",
       " 'pos': 'JJ',\n",
       " 'span': 1,\n",
       " 'start': 6,\n",
       " 'word': 'plastic',\n",
       " 'wholeStr': 'PLASTIC',\n",
       " 'word_raw': 'plastic',\n",
       " 'visited': True,\n",
       " 'span_id': None,\n",
       " 'impType': <getMono.ImpType at 0x1119e8340>,\n",
       " 'impSign': None,\n",
       " 'fixed': False,\n",
       " 'note': None,\n",
       " 'number': None}"
      ]
     },
     "execution_count": 45,
     "metadata": {},
     "output_type": "execute_result"
    }
   ],
   "source": [
    "N = OBJ.children[1]\n",
    "vars(N.children[0])"
   ]
  },
  {
   "cell_type": "code",
   "execution_count": 44,
   "metadata": {
    "collapsed": true
   },
   "outputs": [
    {
     "data": {
      "text/plain": [
       "{'direction': 's',\n",
       " 'left': None,\n",
       " 'right': None,\n",
       " 'originalType': 'N',\n",
       " 'typeWOpolarity': 'N',\n",
       " 'typeWOfeats': 'N',\n",
       " 'monotonicity': None,\n",
       " 'lex_polarity': None,\n",
       " 'word': None,\n",
       " 'semCat': (e,t),\n",
       " 'regexBrk': '\\\\[[^\\\\[\\\\]]+?\\\\]'}"
      ]
     },
     "execution_count": 44,
     "metadata": {},
     "output_type": "execute_result"
    }
   ],
   "source": [
    "vars(N.cat)"
   ]
  },
  {
   "cell_type": "code",
   "execution_count": 47,
   "metadata": {
    "collapsed": true
   },
   "outputs": [
    {
     "data": {
      "text/plain": [
       "['hello']"
      ]
     },
     "execution_count": 47,
     "metadata": {},
     "output_type": "execute_result"
    }
   ],
   "source": [
    "[]+[\"hello\"]"
   ]
  },
  {
   "cell_type": "markdown",
   "metadata": {},
   "source": [
    "### Extracting NPs"
   ]
  },
  {
   "cell_type": "code",
   "execution_count": 113,
   "metadata": {},
   "outputs": [],
   "source": [
    "def ExtractNPs(P):    \n",
    "    if P.cat.originalType == 'NP':\n",
    "        return [P]\n",
    "    elif len(P.children) == 0:\n",
    "        return []\n",
    "    else:\n",
    "        tmp = []\n",
    "        for c in P.children:\n",
    "            tmp += ExtractNPs(c)\n",
    "        return tmp"
   ]
  },
  {
   "cell_type": "code",
   "execution_count": 52,
   "metadata": {
    "collapsed": true
   },
   "outputs": [
    {
     "data": {
      "text/plain": [
       "{'leafNodes': [lf: NP/N ((e,t),((e,t),t)) a DT 2 mono:None imp:None True,\n",
       "  lf: N/N ((e,t),(e,t)) big JJ 3 mono:None imp:None True,\n",
       "  lf: N (e,t) cat NN 3 mono:None imp:None True,\n",
       "  lf: (S[dcl]\\NP)/(S[ng]\\NP) ((((e,t),t),t),(((e,t),t),t)) be VBZ 3 mono:None imp:None True,\n",
       "  lf: (S[ng]\\NP)/NP (((e,t),t),(((e,t),t),t)) open VBG 5 mono:None imp:None True,\n",
       "  lf: NP/N ((e,t),((e,t),t)) a DT 6 mono:None imp:None True,\n",
       "  lf: N/N ((e,t),(e,t)) plastic JJ 7 mono:None imp:None True,\n",
       "  lf: N (e,t) drawer NN 7 mono:None imp:None True,\n",
       "  lf: ((S\\NP)\\(S\\NP))/NP (((e,t),t),((((e,t),t),t),(((e,t),t),t))) with IN 5 mono:None imp:None True,\n",
       "  lf: NP/(N/PP) ((pp,(e,t)),((e,t),t)) its PRP$ 6 mono:None imp:None True,\n",
       "  lf: N/PP (pp,(e,t)) paw NNS 6 mono:None imp:None True,\n",
       "  lf: conj CONJ and CC 3 mono:None imp:None True,\n",
       "  lf: (S[dcl]\\NP)/(S[ng]\\NP) ((((e,t),t),t),(((e,t),t),t)) be VBZ 4 mono:None imp:None True,\n",
       "  lf: S[ng]\\NP (((e,t),t),t) jump VBG 5 mono:None imp:None True,\n",
       "  lf: (S\\NP)\\(S\\NP) ((((e,t),t),t),(((e,t),t),t)) inside RB 5 mono:None imp:None True],\n",
       " 'words': ['A',\n",
       "  'BIG',\n",
       "  'CAT',\n",
       "  'BE',\n",
       "  'OPEN',\n",
       "  'A',\n",
       "  'PLASTIC',\n",
       "  'DRAWER',\n",
       "  'WITH',\n",
       "  'ITS',\n",
       "  'PAW',\n",
       "  'AND',\n",
       "  'BE',\n",
       "  'JUMP',\n",
       "  'INSIDE'],\n",
       " 'nonTermNodes': [nt: N (e,t) fa 2 None False,\n",
       "  nt: NP ((e,t),t) fa 1 None False,\n",
       "  nt: N (e,t) fa 6 None False,\n",
       "  nt: NP ((e,t),t) fa 5 None False,\n",
       "  nt: S[ng]\\NP (((e,t),t),t) fa 4 None False,\n",
       "  nt: NP ((e,t),t) fa 5 None False,\n",
       "  nt: (S\\NP)\\(S\\NP) ((((e,t),t),t),(((e,t),t),t)) fa 4 None False,\n",
       "  nt: S[ng]\\NP (((e,t),t),t) ba 3 None False,\n",
       "  nt: S[dcl]\\NP (((e,t),t),t) fa 2 None False,\n",
       "  nt: S[ng]\\NP (((e,t),t),t) ba 4 None False,\n",
       "  nt: S[dcl]\\NP (((e,t),t),t) fa 3 None False,\n",
       "  nt: (S[dcl]\\NP)\\(S[dcl]\\NP) ((((e,t),t),t),(((e,t),t),t)) conj 2 None False,\n",
       "  nt: S[dcl]\\NP (((e,t),t),t) ba 1 None False],\n",
       " 'root': nt: S[dcl] t ba 0 None False,\n",
       " 'allNodes': [lf: NP/N ((e,t),((e,t),t)) a DT 2 mono:None imp:None True,\n",
       "  lf: N/N ((e,t),(e,t)) big JJ 3 mono:None imp:None True,\n",
       "  lf: N (e,t) cat NN 3 mono:None imp:None True,\n",
       "  lf: (S[dcl]\\NP)/(S[ng]\\NP) ((((e,t),t),t),(((e,t),t),t)) be VBZ 3 mono:None imp:None True,\n",
       "  lf: (S[ng]\\NP)/NP (((e,t),t),(((e,t),t),t)) open VBG 5 mono:None imp:None True,\n",
       "  lf: NP/N ((e,t),((e,t),t)) a DT 6 mono:None imp:None True,\n",
       "  lf: N/N ((e,t),(e,t)) plastic JJ 7 mono:None imp:None True,\n",
       "  lf: N (e,t) drawer NN 7 mono:None imp:None True,\n",
       "  lf: ((S\\NP)\\(S\\NP))/NP (((e,t),t),((((e,t),t),t),(((e,t),t),t))) with IN 5 mono:None imp:None True,\n",
       "  lf: NP/(N/PP) ((pp,(e,t)),((e,t),t)) its PRP$ 6 mono:None imp:None True,\n",
       "  lf: N/PP (pp,(e,t)) paw NNS 6 mono:None imp:None True,\n",
       "  lf: conj CONJ and CC 3 mono:None imp:None True,\n",
       "  lf: (S[dcl]\\NP)/(S[ng]\\NP) ((((e,t),t),t),(((e,t),t),t)) be VBZ 4 mono:None imp:None True,\n",
       "  lf: S[ng]\\NP (((e,t),t),t) jump VBG 5 mono:None imp:None True,\n",
       "  lf: (S\\NP)\\(S\\NP) ((((e,t),t),t),(((e,t),t),t)) inside RB 5 mono:None imp:None True,\n",
       "  nt: N (e,t) fa 2 None False,\n",
       "  nt: NP ((e,t),t) fa 1 None False,\n",
       "  nt: N (e,t) fa 6 None False,\n",
       "  nt: NP ((e,t),t) fa 5 None False,\n",
       "  nt: S[ng]\\NP (((e,t),t),t) fa 4 None False,\n",
       "  nt: NP ((e,t),t) fa 5 None False,\n",
       "  nt: (S\\NP)\\(S\\NP) ((((e,t),t),t),(((e,t),t),t)) fa 4 None False,\n",
       "  nt: S[ng]\\NP (((e,t),t),t) ba 3 None False,\n",
       "  nt: S[dcl]\\NP (((e,t),t),t) fa 2 None False,\n",
       "  nt: S[ng]\\NP (((e,t),t),t) ba 4 None False,\n",
       "  nt: S[dcl]\\NP (((e,t),t),t) fa 3 None False,\n",
       "  nt: (S[dcl]\\NP)\\(S[dcl]\\NP) ((((e,t),t),t),(((e,t),t),t)) conj 2 None False,\n",
       "  nt: S[dcl]\\NP (((e,t),t),t) ba 1 None False],\n",
       " 'wholeStr': 'A BIG CAT BE OPEN A PLASTIC DRAWER WITH ITS PAW AND BE JUMP INSIDE',\n",
       " 'numInfTotal': 0,\n",
       " 'inf_depth': 0,\n",
       " 'neutral_depth': 0,\n",
       " 'trTypes': [],\n",
       " 'use_lemma': True}"
      ]
     },
     "execution_count": 52,
     "metadata": {},
     "output_type": "execute_result"
    }
   ],
   "source": [
    "vars(P)"
   ]
  },
  {
   "cell_type": "code",
   "execution_count": 54,
   "metadata": {
    "collapsed": true
   },
   "outputs": [],
   "source": [
    "NPs = ExtractNPs(P.root)"
   ]
  },
  {
   "cell_type": "code",
   "execution_count": 55,
   "metadata": {
    "collapsed": true
   },
   "outputs": [
    {
     "name": "stdout",
     "output_type": "stream",
     "text": [
      "A BIG CAT\n",
      "A PLASTIC DRAWER\n",
      "ITS PAW\n"
     ]
    }
   ],
   "source": [
    "for NP in NPs:\n",
    "    print(NP.wholeStr)"
   ]
  },
  {
   "cell_type": "markdown",
   "metadata": {},
   "source": [
    "#### Testing ExtractNPs"
   ]
  },
  {
   "cell_type": "code",
   "execution_count": 57,
   "metadata": {
    "collapsed": true
   },
   "outputs": [
    {
     "name": "stdout",
     "output_type": "stream",
     "text": [
      "A BIG CAT BE OPEN A PLASTIC DRAWER WITH ITS PAW AND BE JUMP INSIDE\n",
      "A BIG CAT\n",
      "A PLASTIC DRAWER\n",
      "ITS PAW\n",
      "\n",
      "AN ADULT BE IN A AMPHITHEATER AND BE TALK TO A BOY\n",
      "AN ADULT\n",
      "A AMPHITHEATER\n",
      "A BOY\n",
      "\n",
      "A BLACK DOG BE RUN IN A GRASS AND ITS TONGUE BE HANG OUT\n",
      "A BLACK DOG\n",
      "A GRASS\n",
      "ITS TONGUE\n",
      "\n",
      "A MAN BE SMOKE A CIGARETTE IN A STRAW HAT\n",
      "A MAN\n",
      "A CIGARETTE\n",
      "A STRAW HAT\n",
      "\n",
      "A ICE HOCKEY GOALKEEPER BE WEAR A YELLOW JERSEY AND BE DEFEND A GOAL\n",
      "A ICE HOCKEY GOALKEEPER\n",
      "A YELLOW JERSEY\n",
      "A GOAL\n",
      "\n",
      "AN ELD MAN BE SIT ON A BENCH AND BE WEAR A GRAY JACKET AND BLACK PANT\n",
      "AN ELD MAN\n",
      "A BENCH\n",
      "A GRAY JACKET AND BLACK PANT\n",
      "\n",
      "A MAN BE SMOKE A CIGARETTE IN A STRAW HAT\n",
      "A MAN\n",
      "A CIGARETTE\n",
      "A STRAW HAT\n",
      "\n",
      "A MAN IN A BLACK JERSEY BE STAND IN A GYM\n",
      "A MAN IN A BLACK JERSEY\n",
      "A GYM\n",
      "\n"
     ]
    },
    {
     "name": "stderr",
     "output_type": "stream",
     "text": [
      "building tree 71...\n",
      "building tree 3315...\n",
      "building tree 167...\n",
      "building tree 549...\n",
      "building tree 4304...\n",
      "building tree 3344...\n",
      "building tree 549...\n",
      "building tree 1413...\n"
     ]
    }
   ],
   "source": [
    "for i in CONJ_ID:\n",
    "    P = trees.build_one_tree(sick2uniq[i]['P'], \"easyccg\")\n",
    "    NPs = ExtractNPs(P.root)\n",
    "    print(P.wholeStr)\n",
    "    for NP in NPs:\n",
    "        print(NP.wholeStr)\n",
    "    print()"
   ]
  },
  {
   "cell_type": "markdown",
   "metadata": {},
   "source": [
    "### Extracting adj"
   ]
  },
  {
   "cell_type": "code",
   "execution_count": 59,
   "metadata": {
    "collapsed": true
   },
   "outputs": [
    {
     "data": {
      "text/plain": [
       "'A MAN IN A BLACK JERSEY BE STAND IN A GYM'"
      ]
     },
     "execution_count": 59,
     "metadata": {},
     "output_type": "execute_result"
    }
   ],
   "source": [
    "P.wholeStr"
   ]
  },
  {
   "cell_type": "code",
   "execution_count": 64,
   "metadata": {
    "collapsed": true
   },
   "outputs": [
    {
     "data": {
      "text/plain": [
       "{'parent': None,\n",
       " 'children': [lf: NP/N ((e,t),((e,t),t)) a DT 2 mono:None imp:None True,\n",
       "  nt: N (e,t) ba 2 None False],\n",
       " 'sisters': [],\n",
       " 'depth': 1,\n",
       " 'cat': NP,\n",
       " 'ruleType': 'fa',\n",
       " 'wholeStr': 'A MAN IN A BLACK JERSEY',\n",
       " 'visited': False,\n",
       " 'span_id': None,\n",
       " 'impType': <getMono.ImpType at 0x111c30130>,\n",
       " 'impSign': None,\n",
       " 'note': None,\n",
       " 'number': None}"
      ]
     },
     "execution_count": 64,
     "metadata": {},
     "output_type": "execute_result"
    }
   ],
   "source": [
    "vars(NPs[0])"
   ]
  },
  {
   "cell_type": "code",
   "execution_count": 105,
   "metadata": {
    "collapsed": true
   },
   "outputs": [],
   "source": [
    "def ExtractAdjs(node):\n",
    "    # print(node.wholeStr, node.children)\n",
    "    if len(node.children) == 0:\n",
    "        # print(node.pos, node.cat.originalType)\n",
    "        if node.pos == \"JJ\":\n",
    "            return [node]\n",
    "        elif node.pos == \"NN\" and not (node.cat.originalType == 'N'):\n",
    "            return [node]\n",
    "        else: return []\n",
    "    else:\n",
    "        tmp = []\n",
    "        for c in node.children:\n",
    "            # print(c)\n",
    "            tmp += ExtractAdjs(c)\n",
    "        return tmp"
   ]
  },
  {
   "cell_type": "code",
   "execution_count": 106,
   "metadata": {
    "collapsed": true
   },
   "outputs": [
    {
     "name": "stdout",
     "output_type": "stream",
     "text": [
      "A BIG CAT\n",
      "BIG\n",
      "\n",
      "A PLASTIC DRAWER\n",
      "PLASTIC\n",
      "\n",
      "ITS PAW\n",
      "\n",
      "AN ADULT\n",
      "\n",
      "A AMPHITHEATER\n",
      "\n",
      "A BOY\n",
      "\n",
      "A BLACK DOG\n",
      "BLACK\n",
      "\n",
      "A GRASS\n",
      "\n",
      "ITS TONGUE\n",
      "TONGUE\n",
      "\n",
      "A MAN\n",
      "\n",
      "A CIGARETTE\n",
      "\n",
      "A STRAW HAT\n",
      "STRAW\n",
      "\n",
      "A ICE HOCKEY GOALKEEPER\n",
      "ICE\n",
      "HOCKEY\n",
      "\n",
      "A YELLOW JERSEY\n",
      "YELLOW\n",
      "\n",
      "A GOAL\n",
      "\n",
      "AN ELD MAN\n",
      "\n",
      "A BENCH\n",
      "\n",
      "A GRAY JACKET AND BLACK PANT\n",
      "GRAY\n",
      "BLACK\n",
      "\n",
      "A MAN\n",
      "\n",
      "A CIGARETTE\n",
      "\n",
      "A STRAW HAT\n",
      "STRAW\n",
      "\n",
      "A MAN IN A BLACK JERSEY\n",
      "BLACK\n",
      "\n",
      "A GYM\n",
      "\n"
     ]
    },
    {
     "name": "stderr",
     "output_type": "stream",
     "text": [
      "building tree 71...\n",
      "building tree 3315...\n",
      "building tree 167...\n",
      "building tree 549...\n",
      "building tree 4304...\n",
      "building tree 3344...\n",
      "building tree 549...\n",
      "building tree 1413...\n"
     ]
    }
   ],
   "source": [
    "for i in CONJ_ID:\n",
    "    P = trees.build_one_tree(sick2uniq[i]['P'], \"easyccg\")\n",
    "    NPs = ExtractNPs(P.root)\n",
    "    \n",
    "    for NP in NPs:\n",
    "        Adjs = ExtractAdjs(NP)\n",
    "        print(NP.wholeStr)\n",
    "        for Adj in Adjs:\n",
    "            print(Adj.wholeStr)\n",
    "        print()"
   ]
  },
  {
   "cell_type": "markdown",
   "metadata": {},
   "source": [
    "##### finding out a way to identify modifiers in noun compounds"
   ]
  },
  {
   "cell_type": "code",
   "execution_count": 71,
   "metadata": {},
   "outputs": [
    {
     "name": "stderr",
     "output_type": "stream",
     "text": [
      "building tree 4304...\n"
     ]
    }
   ],
   "source": [
    "P = trees.build_one_tree(sick2uniq[6544]['P'], \"easyccg\")"
   ]
  },
  {
   "cell_type": "code",
   "execution_count": 75,
   "metadata": {
    "collapsed": true
   },
   "outputs": [
    {
     "data": {
      "text/plain": [
       "[nt: NP ((e,t),t) fa 1 None False, nt: S[dcl]\\NP (((e,t),t),t) ba 1 None False]"
      ]
     },
     "execution_count": 75,
     "metadata": {},
     "output_type": "execute_result"
    }
   ],
   "source": [
    "P.root.children"
   ]
  },
  {
   "cell_type": "code",
   "execution_count": 83,
   "metadata": {
    "collapsed": true
   },
   "outputs": [],
   "source": [
    "Subj = P.root.children[0]"
   ]
  },
  {
   "cell_type": "code",
   "execution_count": 77,
   "metadata": {
    "collapsed": true
   },
   "outputs": [
    {
     "data": {
      "text/plain": [
       "'A ICE HOCKEY GOALKEEPER'"
      ]
     },
     "execution_count": 77,
     "metadata": {},
     "output_type": "execute_result"
    }
   ],
   "source": [
    "Subj.wholeStr"
   ]
  },
  {
   "cell_type": "code",
   "execution_count": 84,
   "metadata": {
    "collapsed": true
   },
   "outputs": [],
   "source": [
    "Subj = Subj.children[1]"
   ]
  },
  {
   "cell_type": "code",
   "execution_count": 90,
   "metadata": {
    "collapsed": true
   },
   "outputs": [
    {
     "data": {
      "text/plain": [
       "{'direction': 's',\n",
       " 'left': None,\n",
       " 'right': None,\n",
       " 'originalType': 'N',\n",
       " 'typeWOpolarity': 'N',\n",
       " 'typeWOfeats': 'N',\n",
       " 'monotonicity': None,\n",
       " 'lex_polarity': None,\n",
       " 'word': 'goalkeeper',\n",
       " 'semCat': (e,t),\n",
       " 'regexBrk': '\\\\[[^\\\\[\\\\]]+?\\\\]'}"
      ]
     },
     "execution_count": 90,
     "metadata": {},
     "output_type": "execute_result"
    }
   ],
   "source": [
    "vars(Subj.children[1].cat)"
   ]
  },
  {
   "cell_type": "code",
   "execution_count": 91,
   "metadata": {
    "collapsed": true
   },
   "outputs": [
    {
     "data": {
      "text/plain": [
       "{'direction': 'r',\n",
       " 'left': N/N,\n",
       " 'right': N/N,\n",
       " 'originalType': '(N/N)/(N/N)',\n",
       " 'typeWOpolarity': '(N/N)/(N/N)',\n",
       " 'typeWOfeats': '(N/N)/(N/N)',\n",
       " 'monotonicity': None,\n",
       " 'lex_polarity': None,\n",
       " 'word': 'ice',\n",
       " 'semCat': (((e,t),(e,t)),((e,t),(e,t))),\n",
       " 'regexBrk': '\\\\[[^\\\\[\\\\]]+?\\\\]'}"
      ]
     },
     "execution_count": 91,
     "metadata": {},
     "output_type": "execute_result"
    }
   ],
   "source": [
    "vars(Subj.children[0].children[0].cat)"
   ]
  },
  {
   "cell_type": "code",
   "execution_count": 104,
   "metadata": {
    "collapsed": true
   },
   "outputs": [
    {
     "name": "stdout",
     "output_type": "stream",
     "text": [
      "ICE HOCKEY GOALKEEPER [nt: N/N ((e,t),(e,t)) fa 3 None False, lf: N (e,t) goalkeeper NN 3 mono:None imp:None True]\n",
      "nt: N/N ((e,t),(e,t)) fa 3 None False\n",
      "ICE HOCKEY [lf: (N/N)/(N/N) (((e,t),(e,t)),((e,t),(e,t))) ice NN 4 mono:None imp:None True, lf: N/N ((e,t),(e,t)) hockey NN 4 mono:None imp:None True]\n",
      "lf: (N/N)/(N/N) (((e,t),(e,t)),((e,t),(e,t))) ice NN 4 mono:None imp:None True\n",
      "ICE []\n",
      "NN (N/N)/(N/N)\n",
      "lf: N/N ((e,t),(e,t)) hockey NN 4 mono:None imp:None True\n",
      "HOCKEY []\n",
      "NN N/N\n",
      "lf: N (e,t) goalkeeper NN 3 mono:None imp:None True\n",
      "GOALKEEPER []\n",
      "NN N\n"
     ]
    },
    {
     "data": {
      "text/plain": [
       "[lf: (N/N)/(N/N) (((e,t),(e,t)),((e,t),(e,t))) ice NN 4 mono:None imp:None True,\n",
       " lf: N/N ((e,t),(e,t)) hockey NN 4 mono:None imp:None True]"
      ]
     },
     "execution_count": 104,
     "metadata": {},
     "output_type": "execute_result"
    }
   ],
   "source": [
    "ExtractAdjs(Subj)"
   ]
  },
  {
   "cell_type": "markdown",
   "metadata": {},
   "source": [
    "### Removing one Adjective"
   ]
  },
  {
   "cell_type": "code",
   "execution_count": 107,
   "metadata": {},
   "outputs": [
    {
     "name": "stderr",
     "output_type": "stream",
     "text": [
      "building tree 4304...\n"
     ]
    }
   ],
   "source": [
    "P = trees.build_one_tree(sick2uniq[6544]['P'], \"easyccg\")"
   ]
  },
  {
   "cell_type": "code",
   "execution_count": 114,
   "metadata": {},
   "outputs": [
    {
     "data": {
      "text/plain": [
       "[nt: NP ((e,t),t) fa 1 None False,\n",
       " nt: NP ((e,t),t) fa 4 None False,\n",
       " nt: NP ((e,t),t) fa 5 None False]"
      ]
     },
     "execution_count": 114,
     "metadata": {},
     "output_type": "execute_result"
    }
   ],
   "source": [
    "NPs = ExtractNPs(P.root)\n",
    "NPs"
   ]
  },
  {
   "cell_type": "code",
   "execution_count": 117,
   "metadata": {},
   "outputs": [
    {
     "data": {
      "text/plain": [
       "{'parent': nt: S[dcl] t ba 0 None False,\n",
       " 'children': [lf: NP/N ((e,t),((e,t),t)) a DT 2 mono:None imp:None True,\n",
       "  nt: N (e,t) fa 2 None False],\n",
       " 'sisters': [nt: S[dcl]\\NP (((e,t),t),t) ba 1 None False],\n",
       " 'depth': 1,\n",
       " 'cat': NP,\n",
       " 'ruleType': 'fa',\n",
       " 'wholeStr': 'A ICE HOCKEY GOALKEEPER',\n",
       " 'visited': False,\n",
       " 'span_id': None,\n",
       " 'impType': <getMono.ImpType at 0x112d53f40>,\n",
       " 'impSign': None,\n",
       " 'note': None,\n",
       " 'number': None}"
      ]
     },
     "execution_count": 117,
     "metadata": {},
     "output_type": "execute_result"
    }
   ],
   "source": [
    "vars(NPs[0])"
   ]
  },
  {
   "cell_type": "code",
   "execution_count": 116,
   "metadata": {},
   "outputs": [
    {
     "data": {
      "text/plain": [
       "'A ICE HOCKEY GOALKEEPER BE WEAR A YELLOW JERSEY AND BE DEFEND A GOAL'"
      ]
     },
     "execution_count": 116,
     "metadata": {},
     "output_type": "execute_result"
    }
   ],
   "source": [
    "P.wholeStr"
   ]
  },
  {
   "cell_type": "code",
   "execution_count": 120,
   "metadata": {},
   "outputs": [
    {
     "data": {
      "text/plain": [
       "{'parent': None,\n",
       " 'children': [nt: NP ((e,t),t) fa 1 None False,\n",
       "  nt: S[dcl]\\NP (((e,t),t),t) ba 1 None False],\n",
       " 'sisters': [],\n",
       " 'depth': 0,\n",
       " 'cat': S[dcl],\n",
       " 'ruleType': 'ba',\n",
       " 'wholeStr': 'A ICE HOCKEY GOALKEEPER BE WEAR A YELLOW JERSEY AND BE DEFEND A GOAL',\n",
       " 'visited': False,\n",
       " 'span_id': None,\n",
       " 'impType': <getMono.ImpType at 0x112dbc2e0>,\n",
       " 'impSign': None,\n",
       " 'note': None,\n",
       " 'number': None}"
      ]
     },
     "execution_count": 120,
     "metadata": {},
     "output_type": "execute_result"
    }
   ],
   "source": [
    "P1 = P.root.copy()\n",
    "vars(P1)"
   ]
  },
  {
   "cell_type": "code",
   "execution_count": 163,
   "metadata": {},
   "outputs": [],
   "source": [
    "def findAdj(root, adj):\n",
    "    if len(root.children) == 0:\n",
    "        return None\n",
    "    else:\n",
    "        root.children[0].parent = root\n",
    "        root.children[1].parent = root\n",
    "        root.children[0].sisters = root.children[1]\n",
    "        root.children[1].sisters = root.children[0]\n",
    "        \n",
    "        if adj.wholeStr == root.children[0].wholeStr and adj.parent.wholeStr == root.children[0].parent.wholeStr:\n",
    "            return root.children[0]\n",
    "        elif adj.wholeStr == root.children[1].wholeStr and adj.parent.wholeStr == root.children[1].parent.wholeStr:\n",
    "            return root.children[1]\n",
    "        else:\n",
    "            res = findAdj(root.children[0], adj)\n",
    "            if res == None:\n",
    "                res = findAdj(root.children[1], adj)\n",
    "            return res\n",
    "\n",
    "def removeAdj(P,NP,adj):\n",
    "    root = P.root.copy()\n",
    "    adj = findAdj(root, adj)\n",
    "    \n",
    "    #     par.par                par.par\n",
    "    #       /     \\                 /     \\ \n",
    "    #     par    rest    ->       sister   rest\n",
    "    #    /   \\\n",
    "    #  adj   sister\n",
    "    parpar = adj.parent.parent\n",
    "    sister = adj.sisters\n",
    "    \n",
    "    sister.sisters = None\n",
    "    sister.parent = parpar\n",
    "    \n",
    "    for i in range(2):\n",
    "        if parpar.children[i] == adj.parent:\n",
    "            parpar.children[i] = sister\n",
    "            \n",
    "    # updating wholeStr\n",
    "    parent = sister.parent\n",
    "    while parent:\n",
    "        parent.assignWholeStr()\n",
    "        parent = parent.parent\n",
    "    \n",
    "    return root\n",
    "\n",
    "def RemoveOneAdj(P, NP):\n",
    "    # for each adj in NP, remove adj and store the sentence in tmp\n",
    "    tmp = []\n",
    "    ADJs = ExtractAdjs(NP)\n",
    "    \n",
    "    for adj in ADJs:\n",
    "        # remove adj from NP\n",
    "        tmp.append(removeAdj(P,NP,adj))\n",
    "        \n",
    "    return tmp\n",
    "        "
   ]
  },
  {
   "cell_type": "code",
   "execution_count": 123,
   "metadata": {},
   "outputs": [
    {
     "data": {
      "text/plain": [
       "[nt: NP ((e,t),t) fa 1 None False,\n",
       " nt: NP ((e,t),t) fa 4 None False,\n",
       " nt: NP ((e,t),t) fa 5 None False]"
      ]
     },
     "execution_count": 123,
     "metadata": {},
     "output_type": "execute_result"
    }
   ],
   "source": [
    "NPs"
   ]
  },
  {
   "cell_type": "code",
   "execution_count": 124,
   "metadata": {},
   "outputs": [
    {
     "data": {
      "text/plain": [
       "[lf: (N/N)/(N/N) (((e,t),(e,t)),((e,t),(e,t))) ice NN 4 mono:None imp:None True,\n",
       " lf: N/N ((e,t),(e,t)) hockey NN 4 mono:None imp:None True]"
      ]
     },
     "execution_count": 124,
     "metadata": {},
     "output_type": "execute_result"
    }
   ],
   "source": [
    "ADJs = ExtractAdjs(NPs[0])\n",
    "ADJs"
   ]
  },
  {
   "cell_type": "code",
   "execution_count": 150,
   "metadata": {},
   "outputs": [
    {
     "data": {
      "text/plain": [
       "lf: (N/N)/(N/N) (((e,t),(e,t)),((e,t),(e,t))) ice NN 4 mono:None imp:None True"
      ]
     },
     "execution_count": 150,
     "metadata": {},
     "output_type": "execute_result"
    }
   ],
   "source": [
    "root = P.root.copy()\n",
    "adj = findAdj(root,ADJs[0])\n",
    "adj"
   ]
  },
  {
   "cell_type": "code",
   "execution_count": 151,
   "metadata": {},
   "outputs": [],
   "source": [
    "parpar = adj.parent.parent\n",
    "sister = adj.sisters"
   ]
  },
  {
   "cell_type": "code",
   "execution_count": 153,
   "metadata": {},
   "outputs": [
    {
     "data": {
      "text/plain": [
       "True"
      ]
     },
     "execution_count": 153,
     "metadata": {},
     "output_type": "execute_result"
    }
   ],
   "source": [
    "adj.parent in parpar.children"
   ]
  },
  {
   "cell_type": "code",
   "execution_count": 155,
   "metadata": {},
   "outputs": [
    {
     "name": "stdout",
     "output_type": "stream",
     "text": [
      "None\n"
     ]
    }
   ],
   "source": [
    "print(root.parent)"
   ]
  },
  {
   "cell_type": "code",
   "execution_count": 161,
   "metadata": {},
   "outputs": [
    {
     "ename": "IndexError",
     "evalue": "list index out of range",
     "output_type": "error",
     "traceback": [
      "\u001b[0;31m---------------------------------------------------------------------------\u001b[0m",
      "\u001b[0;31mIndexError\u001b[0m                                Traceback (most recent call last)",
      "\u001b[0;32m<ipython-input-161-c87105d8286e>\u001b[0m in \u001b[0;36m<module>\u001b[0;34m\u001b[0m\n\u001b[0;32m----> 1\u001b[0;31m \u001b[0mremoved\u001b[0m \u001b[0;34m=\u001b[0m \u001b[0mremoveAdj\u001b[0m\u001b[0;34m(\u001b[0m\u001b[0mP\u001b[0m\u001b[0;34m,\u001b[0m \u001b[0mNPs\u001b[0m\u001b[0;34m[\u001b[0m\u001b[0;36m0\u001b[0m\u001b[0;34m]\u001b[0m\u001b[0;34m,\u001b[0m\u001b[0mADJs\u001b[0m\u001b[0;34m[\u001b[0m\u001b[0;36m2\u001b[0m\u001b[0;34m]\u001b[0m\u001b[0;34m)\u001b[0m\u001b[0;34m\u001b[0m\u001b[0;34m\u001b[0m\u001b[0m\n\u001b[0m",
      "\u001b[0;31mIndexError\u001b[0m: list index out of range"
     ]
    }
   ],
   "source": [
    "removed = removeAdj(P, NPs[0],ADJs[2])"
   ]
  },
  {
   "cell_type": "code",
   "execution_count": 160,
   "metadata": {},
   "outputs": [
    {
     "data": {
      "text/plain": [
       "{'parent': None,\n",
       " 'children': [nt: NP ((e,t),t) fa 1 None False,\n",
       "  nt: S[dcl]\\NP (((e,t),t),t) ba 1 None False],\n",
       " 'sisters': [],\n",
       " 'depth': 0,\n",
       " 'cat': S[dcl],\n",
       " 'ruleType': 'ba',\n",
       " 'wholeStr': 'A ICE GOALKEEPER BE WEAR A YELLOW JERSEY AND BE DEFEND A GOAL',\n",
       " 'visited': False,\n",
       " 'span_id': None,\n",
       " 'impType': <getMono.ImpType at 0x112f08610>,\n",
       " 'impSign': None,\n",
       " 'note': None,\n",
       " 'number': None}"
      ]
     },
     "execution_count": 160,
     "metadata": {},
     "output_type": "execute_result"
    }
   ],
   "source": [
    "vars(removed)"
   ]
  },
  {
   "cell_type": "markdown",
   "metadata": {},
   "source": [
    "#### Testing Remove One Adjective"
   ]
  },
  {
   "cell_type": "code",
   "execution_count": 165,
   "metadata": {},
   "outputs": [
    {
     "name": "stdout",
     "output_type": "stream",
     "text": [
      "A BIG CAT BE OPEN A PLASTIC DRAWER WITH ITS PAW AND BE JUMP INSIDE\n",
      "A BIG CAT\n",
      "A CAT BE OPEN A PLASTIC DRAWER WITH ITS PAW AND BE JUMP INSIDE\n",
      "\n",
      "A PLASTIC DRAWER\n",
      "A BIG CAT BE OPEN A DRAWER WITH ITS PAW AND BE JUMP INSIDE\n",
      "\n",
      "ITS PAW\n",
      "\n",
      "AN ADULT BE IN A AMPHITHEATER AND BE TALK TO A BOY\n",
      "AN ADULT\n",
      "\n",
      "A AMPHITHEATER\n",
      "\n",
      "A BOY\n",
      "\n",
      "A BLACK DOG BE RUN IN A GRASS AND ITS TONGUE BE HANG OUT\n",
      "A BLACK DOG\n",
      "A DOG BE RUN IN A GRASS AND ITS TONGUE BE HANG OUT\n",
      "\n",
      "A GRASS\n",
      "\n",
      "ITS TONGUE\n",
      "A BLACK DOG BE RUN IN A GRASS AND ITS BE HANG OUT\n",
      "\n",
      "A MAN BE SMOKE A CIGARETTE IN A STRAW HAT\n",
      "A MAN\n",
      "\n",
      "A CIGARETTE\n",
      "\n",
      "A STRAW HAT\n",
      "A MAN BE SMOKE A CIGARETTE IN A HAT\n",
      "\n",
      "A ICE HOCKEY GOALKEEPER BE WEAR A YELLOW JERSEY AND BE DEFEND A GOAL\n",
      "A ICE HOCKEY GOALKEEPER\n",
      "A HOCKEY GOALKEEPER BE WEAR A YELLOW JERSEY AND BE DEFEND A GOAL\n",
      "A ICE GOALKEEPER BE WEAR A YELLOW JERSEY AND BE DEFEND A GOAL\n",
      "\n",
      "A YELLOW JERSEY\n",
      "A ICE HOCKEY GOALKEEPER BE WEAR A JERSEY AND BE DEFEND A GOAL\n",
      "\n",
      "A GOAL\n",
      "\n",
      "AN ELD MAN BE SIT ON A BENCH AND BE WEAR A GRAY JACKET AND BLACK PANT\n",
      "AN ELD MAN\n",
      "\n",
      "A BENCH\n",
      "\n",
      "A GRAY JACKET AND BLACK PANT\n",
      "AN ELD MAN BE SIT ON A BENCH AND BE WEAR A JACKET AND BLACK PANT\n",
      "AN ELD MAN BE SIT ON A BENCH AND BE WEAR A GRAY JACKET AND PANT\n",
      "\n",
      "A MAN BE SMOKE A CIGARETTE IN A STRAW HAT\n",
      "A MAN\n",
      "\n",
      "A CIGARETTE\n",
      "\n",
      "A STRAW HAT\n",
      "A MAN BE SMOKE A CIGARETTE IN A HAT\n",
      "\n",
      "A MAN IN A BLACK JERSEY BE STAND IN A GYM\n",
      "A MAN IN A BLACK JERSEY\n",
      "A MAN IN A JERSEY BE STAND IN A GYM\n",
      "\n",
      "A GYM\n",
      "\n"
     ]
    },
    {
     "name": "stderr",
     "output_type": "stream",
     "text": [
      "building tree 71...\n",
      "building tree 3315...\n",
      "building tree 167...\n",
      "building tree 549...\n",
      "building tree 4304...\n",
      "building tree 3344...\n",
      "building tree 549...\n",
      "building tree 1413...\n"
     ]
    }
   ],
   "source": [
    "for i in CONJ_ID:\n",
    "    P = trees.build_one_tree(sick2uniq[i]['P'], \"easyccg\")\n",
    "    NPs = ExtractNPs(P.root)\n",
    "    print(P.wholeStr)\n",
    "    \n",
    "    for NP in NPs:\n",
    "        removed = RemoveOneAdj(P, NP)\n",
    "        print(NP.wholeStr)\n",
    "        for r in removed:\n",
    "            print(r.wholeStr)\n",
    "        print()\n",
    "        "
   ]
  },
  {
   "cell_type": "code",
   "execution_count": null,
   "metadata": {},
   "outputs": [],
   "source": []
  }
 ],
 "metadata": {
  "kernelspec": {
   "display_name": "Python 3",
   "language": "python",
   "name": "python3"
  },
  "language_info": {
   "codemirror_mode": {
    "name": "ipython",
    "version": 3
   },
   "file_extension": ".py",
   "mimetype": "text/x-python",
   "name": "python",
   "nbconvert_exporter": "python",
   "pygments_lexer": "ipython3",
   "version": "3.8.3"
  }
 },
 "nbformat": 4,
 "nbformat_minor": 4
}
